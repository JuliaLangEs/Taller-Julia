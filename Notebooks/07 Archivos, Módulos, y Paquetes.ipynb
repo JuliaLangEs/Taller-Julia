{
 "cells": [
  {
   "cell_type": "markdown",
   "metadata": {},
   "source": [
    "# Trabajar con archivos\n",
    "Julia permite acceder al sitema de archivos por medio una función en especifico: `open()`. De ahí podemos leer con las funciones `read()` o `readlines()`. Siempre es necesario cerrar los archivos que abrimos. Para ésto existe la función `close()`. Por úlmito, se puede usar un bloque de código `do`-`end` para abrir un archivo."
   ]
  },
  {
   "cell_type": "code",
   "execution_count": null,
   "metadata": {
    "collapsed": true
   },
   "outputs": [],
   "source": [
    "open(\"\")"
   ]
  },
  {
   "cell_type": "markdown",
   "metadata": {},
   "source": [
    "# Módulos\n",
    "La forma de mantener el proyecto de Julia de manera sustentable es hacerlo modular. Es decir, crear pequeños conjuntos de código que se puedan desarrollar, probar y mantener facilmente. Esto se hace mediante bloques de código llamados `module`. Éstos contienen funciones, variables, y constantes que cumplen un mismo fin. El ejemplo más sencillo es un módulo solamente con variables."
   ]
  },
  {
   "cell_type": "code",
   "execution_count": 1,
   "metadata": {
    "collapsed": false
   },
   "outputs": [
    {
     "data": {
      "text/plain": [
       "MyModule"
      ]
     },
     "execution_count": 1,
     "metadata": {},
     "output_type": "execute_result"
    }
   ],
   "source": [
    "module MyModule\n",
    "\n",
    "export x, y\n",
    "\n",
    "a = 1\n",
    "x = a\n",
    "y = a+1\n",
    "\n",
    "\n",
    "end"
   ]
  },
  {
   "cell_type": "markdown",
   "metadata": {},
   "source": [
    "Para utilizar un módulo puedes importar todos sus `export`s con la palabra reservada `using`."
   ]
  },
  {
   "cell_type": "code",
   "execution_count": 2,
   "metadata": {
    "collapsed": true
   },
   "outputs": [],
   "source": [
    "using MyModule"
   ]
  },
  {
   "cell_type": "code",
   "execution_count": 3,
   "metadata": {
    "collapsed": false
   },
   "outputs": [
    {
     "data": {
      "text/plain": [
       "1"
      ]
     },
     "execution_count": 3,
     "metadata": {},
     "output_type": "execute_result"
    }
   ],
   "source": [
    "x"
   ]
  },
  {
   "cell_type": "code",
   "execution_count": 4,
   "metadata": {
    "collapsed": false
   },
   "outputs": [
    {
     "data": {
      "text/plain": [
       "2"
      ]
     },
     "execution_count": 4,
     "metadata": {},
     "output_type": "execute_result"
    }
   ],
   "source": [
    "y"
   ]
  },
  {
   "cell_type": "markdown",
   "metadata": {},
   "source": [
    "Es recomendable escribir un módulo por archivo, o si necesitas, varios archivos para el mísmo múdulo, pero nunca varios módulos en un mismo archivo. Los archivos deben llevar la terminación `.jl` y pueden ser incluídos al archivo actual, para usar los módulos que éste contiene."
   ]
  },
  {
   "cell_type": "markdown",
   "metadata": {},
   "source": [
    "# Paquetes\n",
    "Cuando la comunidad crea un módulo útil, lo [publican](http://docs.julialang.org/en/release-0.5/manual/packages.html#making-your-package-available) en github. De ésta forma tu puedes acceder a una cantidad constantemente creciente de paquetes para cómuputo técnico.\n",
    "\n",
    "El módulo encargado de manejar paquetes se llama `Pkg` y ya lo han usado para instalar `IJulia`. \n",
    "\n",
    "Los comandos más comúnes son:\n",
    "\n",
    "- `Pkg.init()`: Usado para inicializar el sistema de paquetería.\n",
    "- `Pkg.add()`: Se usa para agregar paquetes, recive como argumento una cadena con el nombre del paquete.\n",
    "- `Pkg.update()`: Utilizado para actualizar la paquetería. Usalo a diario ;)\n",
    "- `Pkg.rm()`: Recive una cadena con el nombre de un paquete que desees remover.\n",
    "\n",
    "Una lista con todos los paquetes disponibles atravez de `Pkg` se encuentra en http://pkg.julialang.org/\n",
    "Por ahora instalaremos `Gadfly` una librería de gráficos."
   ]
  },
  {
   "cell_type": "code",
   "execution_count": 5,
   "metadata": {
    "collapsed": false
   },
   "outputs": [
    {
     "name": "stderr",
     "output_type": "stream",
     "text": [
      "INFO: Nothing to be done\n",
      "INFO: METADATA is out-of-date — you may not have the latest version of Gadfly\n",
      "INFO: Use `Pkg.update()` to get the latest versions of your packages\n"
     ]
    }
   ],
   "source": [
    "Pkg.add(\"Gadfly\")"
   ]
  },
  {
   "cell_type": "markdown",
   "metadata": {},
   "source": [
    "Gadfly es una librería hecha en Jula para graficar datos. Puedes encontrar más información en la página de su documentación: http://gadflyjl.org/stable/"
   ]
  },
  {
   "cell_type": "code",
   "execution_count": 7,
   "metadata": {
    "collapsed": false
   },
   "outputs": [
    {
     "name": "stderr",
     "output_type": "stream",
     "text": [
      "INFO: Recompiling stale cache file /Users/abcsds/.julia/lib/v0.5/Contour.ji for module Contour.\n",
      "INFO: Recompiling stale cache file /Users/abcsds/.julia/lib/v0.5/Gadfly.ji for module Gadfly.\n",
      "WARNING: Base.ASCIIString is deprecated, use String instead.\n",
      "  likely near /Users/abcsds/.julia/v0.5/Optim/src/types.jl:66\n",
      "WARNING: Base.ASCIIString is deprecated, use String instead.\n",
      "  likely near /Users/abcsds/.julia/v0.5/Optim/src/types.jl:66\n",
      "WARNING: Base.ASCIIString is deprecated, use String instead.\n",
      "  likely near /Users/abcsds/.julia/v0.5/Optim/src/types.jl:84\n",
      "WARNING: Base.ASCIIString is deprecated, use String instead.\n",
      "  likely near /Users/abcsds/.julia/v0.5/Optim/src/types.jl:84\n",
      "WARNING: Base.ASCIIString is deprecated, use String instead.\n",
      "  likely near /Users/abcsds/.julia/v0.5/Optim/src/problems/unconstrained.jl:10\n",
      "WARNING: Base.ASCIIString is deprecated, use String instead.\n",
      "  likely near /Users/abcsds/.julia/v0.5/Optim/src/problems/unconstrained.jl:10\n",
      "WARNING: Base.ASCIIString is deprecated, use String instead.\n",
      "  likely near /Users/abcsds/.julia/v0.5/Optim/src/problems/unconstrained.jl:21\n",
      "WARNING: Base.ASCIIString is deprecated, use String instead.\n",
      "  likely near /Users/abcsds/.julia/v0.5/Optim/src/problems/unconstrained.jl:45\n",
      "WARNING: Base.ASCIIString is deprecated, use String instead.\n",
      "  likely near /Users/abcsds/.julia/v0.5/Optim/src/problems/unconstrained.jl:45\n",
      "WARNING: Base.ASCIIString is deprecated, use String instead.\n",
      "  likely near /Users/abcsds/.julia/v0.5/Optim/src/problems/unconstrained.jl:45\n",
      "WARNING: Base.ASCIIString is deprecated, use String instead.\n",
      "  likely near /Users/abcsds/.julia/v0.5/Optim/src/problems/unconstrained.jl:45\n",
      "INFO: Recompiling stale cache file /Users/abcsds/.julia/lib/v0.5/PDMats.ji for module PDMats.\n",
      "INFO: Recompiling stale cache file /Users/abcsds/.julia/lib/v0.5/KernelDensity.ji for module KernelDensity.\n",
      "WARNING: The call to compilecache failed to create a usable precompiled cache file for module Gadfly. Got:\n",
      "WARNING: Module KernelDensity uuid did not match cache file.\n"
     ]
    },
    {
     "ename": "LoadError",
     "evalue": "LoadError: LoadError: Declaring __precompile__(true) is only allowed in module files being imported.\nwhile loading /Users/abcsds/.julia/v0.5/Gadfly/src/Gadfly.jl, in expression starting on line 1\nwhile loading In[7], in expression starting on line 1",
     "output_type": "error",
     "traceback": [
      "LoadError: LoadError: Declaring __precompile__(true) is only allowed in module files being imported.\nwhile loading /Users/abcsds/.julia/v0.5/Gadfly/src/Gadfly.jl, in expression starting on line 1\nwhile loading In[7], in expression starting on line 1",
      "",
      " in __precompile__(::Bool) at ./loading.jl:300",
      " in __precompile__() at ./loading.jl:296",
      " in include_from_node1(::String) at ./loading.jl:488",
      " in include_from_node1(::String) at /Applications/Julia-0.5.app/Contents/Resources/julia/lib/julia/sys.dylib:?",
      " in eval(::Module, ::Any) at ./boot.jl:234",
      " in eval(::Module, ::Any) at /Applications/Julia-0.5.app/Contents/Resources/julia/lib/julia/sys.dylib:?",
      " in require(::Symbol) at ./loading.jl:415",
      " in require(::Symbol) at /Applications/Julia-0.5.app/Contents/Resources/julia/lib/julia/sys.dylib:?"
     ]
    }
   ],
   "source": [
    "using Gadfly\n",
    "plot(x=rand(10), y=rand(10))"
   ]
  },
  {
   "cell_type": "markdown",
   "metadata": {},
   "source": [
    "Cuando dos módulos exportan el mismo método para la misma función, existe un error de colisión de nombres. Por ejemplo; instalemos el paquete `Plots`, un sistema de manejo de librerías para graficar."
   ]
  },
  {
   "cell_type": "code",
   "execution_count": 8,
   "metadata": {
    "collapsed": false
   },
   "outputs": [
    {
     "name": "stderr",
     "output_type": "stream",
     "text": [
      "INFO: Recompiling stale cache file /Users/abcsds/.julia/lib/v0.5/Plots.ji for module Plots.\n"
     ]
    }
   ],
   "source": [
    "using Plots"
   ]
  },
  {
   "cell_type": "code",
   "execution_count": null,
   "metadata": {
    "collapsed": true
   },
   "outputs": [],
   "source": []
  }
 ],
 "metadata": {
  "kernelspec": {
   "display_name": "Julia 0.5.0",
   "language": "julia",
   "name": "julia-0.5"
  },
  "language_info": {
   "file_extension": ".jl",
   "mimetype": "application/julia",
   "name": "julia",
   "version": "0.5.0"
  },
  "widgets": {
   "state": {},
   "version": "1.1.2"
  }
 },
 "nbformat": 4,
 "nbformat_minor": 2
}
