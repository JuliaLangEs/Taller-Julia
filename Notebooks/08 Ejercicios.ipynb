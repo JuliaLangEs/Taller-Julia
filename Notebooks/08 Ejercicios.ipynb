{
 "cells": [
  {
   "cell_type": "markdown",
   "metadata": {},
   "source": [
    "# FFT\n",
    "Definición:\n",
    "$$ X_k = \\sum_{n=0}^{N-1} x_n e^{-i2\\pi{k}\\frac{n}{N}} \\quad k = 0,\\dots,N-1 $$"
   ]
  },
  {
   "cell_type": "code",
   "execution_count": null,
   "metadata": {
    "collapsed": false
   },
   "outputs": [],
   "source": [
    "using Plots;gr()"
   ]
  },
  {
   "cell_type": "code",
   "execution_count": null,
   "metadata": {
    "collapsed": false
   },
   "outputs": [],
   "source": [
    "t = 0:0.1:4π                 # Our range will be from 0 to 4π in steps of 0.1\n",
    "x = sin(t)                   # This is the function we,re playing with\n",
    "\n",
    "# And we plot our function\n",
    "plot(t,x,c=:red, size=(1000,300))"
   ]
  },
  {
   "cell_type": "code",
   "execution_count": null,
   "metadata": {
    "collapsed": false
   },
   "outputs": [],
   "source": [
    "N = length(t)\n",
    "k = 0:N-1\n",
    "s = repmat([0],N)\n",
    "\n",
    "plt = plot(t,abs(s),c=:red,alpha=0.6,size=(1000,400),label=\"Start\")\n",
    "\n",
    "for n=t xₙ=x\n",
    "    s += xₙ.*exp(-2im*π*k*n/N)\n",
    "    plot!(t,abs(s),c=:blue,alpha=0.05,label=\"\")\n",
    "end\n",
    "plot!(t,abs(s),c=:green,label=\"End\") # Show the last iteration of the FFT"
   ]
  },
  {
   "cell_type": "code",
   "execution_count": null,
   "metadata": {
    "collapsed": false
   },
   "outputs": [],
   "source": [
    "s = sum(xₙ.*exp(-2im*π*k*n/N) for n=t for xₙ=x)\n",
    "plot(t,abs(s),c=:green,linewidth=3,label=\"\") "
   ]
  },
  {
   "cell_type": "markdown",
   "metadata": {},
   "source": [
    "# Carbono 14\n",
    "La vida media del carbono 14 es de 5,730 años. La ecuación de decadencia radioactiva es:\n",
    "$$\n",
    "\\frac{dN}{dt} = - \\lambda N\n",
    "$$"
   ]
  },
  {
   "cell_type": "code",
   "execution_count": null,
   "metadata": {
    "collapsed": false
   },
   "outputs": [],
   "source": [
    "λ = log(2)/5730\n",
    "N₀ = 1000 # Gramos\n",
    "t = 0:2000:5730*10\n",
    "\n",
    "N = N₀.*exp(-λ*t)\n",
    "\n",
    "plot(t,N,c=:blue,label=\"\", size=(1000,300),linewidth=3)"
   ]
  },
  {
   "cell_type": "markdown",
   "metadata": {},
   "source": [
    "# Atractor de Lorentz"
   ]
  },
  {
   "cell_type": "code",
   "execution_count": null,
   "metadata": {
    "collapsed": true
   },
   "outputs": [],
   "source": [
    "n = 1500\n",
    "dt = 0.02\n",
    "σ, ρ, β = 10., 28., 8/3\n",
    "x, y, z = 1., 1., 1.\n",
    "\n",
    "# initialize a 3D plot with 1 empty series\n",
    "plt = path3d(1, xlim=(-25,25), ylim=(-25,25), zlim=(0,50),\n",
    "                xlab = \"x\", ylab = \"y\", zlab = \"z\",\n",
    "                title = \"Lorenz Attractor\", marker = 1)\n",
    "\n",
    "# build an animated gif, saving every 10th frame\n",
    "@gif for i=1:n\n",
    "    dx = σ*(y - x)     ; x += dt * dx\n",
    "    dy = x*(ρ - z) - y ; y += dt * dy\n",
    "    dz = x*y - β*z     ; z += dt * dz\n",
    "    push!(plt, x, y, z)\n",
    "end every 10"
   ]
  }
 ],
 "metadata": {
  "kernelspec": {
   "display_name": "Julia 0.5.0",
   "language": "julia",
   "name": "julia-0.5"
  },
  "language_info": {
   "file_extension": ".jl",
   "mimetype": "application/julia",
   "name": "julia",
   "version": "0.5.0"
  },
  "widgets": {
   "state": {},
   "version": "1.1.2"
  }
 },
 "nbformat": 4,
 "nbformat_minor": 2
}
