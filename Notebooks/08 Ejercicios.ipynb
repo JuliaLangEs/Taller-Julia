{
 "cells": [
  {
   "cell_type": "markdown",
   "metadata": {},
   "source": [
    "# FFT\n",
    "Definición:\n",
    "$$ X_k = \\sum_{n=0}^{N-1} x_n e^{-i2\\pi{k}\\frac{n}{N}} \\quad k = 0,\\dots,N-1 $$"
   ]
  },
  {
   "cell_type": "code",
   "execution_count": null,
   "metadata": {
    "collapsed": false
   },
   "outputs": [],
   "source": [
    "using Plots;gr()"
   ]
  },
  {
   "cell_type": "code",
   "execution_count": null,
   "metadata": {
    "collapsed": false
   },
   "outputs": [],
   "source": [
    "t = 0:0.1:4π                 # Our range will be from 0 to 4π in steps of 0.1\n",
    "x = sin(t)                   # This is the function we,re playing with\n",
    "\n",
    "# And we plot our function\n",
    "plot(t,x,c=:red, size=(1000,300))"
   ]
  },
  {
   "cell_type": "markdown",
   "metadata": {},
   "source": [
    "# Carbono 14\n",
    "La vida media del carbono 14 es de 5,730 años. La ecuación de decadencia radioactiva es:\n",
    "$$\n",
    "\\frac{dN}{dt} = - \\lambda N_0\n",
    "$$"
   ]
  },
  {
   "cell_type": "code",
   "execution_count": null,
   "metadata": {
    "collapsed": true
   },
   "outputs": [],
   "source": []
  }
 ],
 "metadata": {
  "kernelspec": {
   "display_name": "Julia 0.5.0",
   "language": "julia",
   "name": "julia-0.5"
  },
  "language_info": {
   "file_extension": ".jl",
   "mimetype": "application/julia",
   "name": "julia",
   "version": "0.5.0"
  },
  "widgets": {
   "state": {},
   "version": "1.1.2"
  }
 },
 "nbformat": 4,
 "nbformat_minor": 2
}
