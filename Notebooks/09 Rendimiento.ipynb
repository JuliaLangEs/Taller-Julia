{
 "cells": [
  {
   "cell_type": "markdown",
   "metadata": {},
   "source": [
    "# Macros\n",
    "Los mácros son técnicas de metaprogramación que permiten dar un contexto de ejecución al código de un programa. Son faciles de reconocer pues empiezan siempre con un `@`. Por ahora nos concentraremos solamente en utilizarlos."
   ]
  },
  {
   "cell_type": "code",
   "execution_count": null,
   "metadata": {
    "collapsed": false
   },
   "outputs": [],
   "source": [
    "@time [i^2 for i in 1:2^10 if i%2==0]; # Lista de comprensión condicional"
   ]
  },
  {
   "cell_type": "code",
   "execution_count": null,
   "metadata": {
    "collapsed": false
   },
   "outputs": [],
   "source": [
    "println(@time sum([i^2 for i in 1:2^10 if i%2==0]);)\n",
    "println(@time sum(i^2 for i in 1:2^10 if i%2==0);)"
   ]
  },
  {
   "cell_type": "markdown",
   "metadata": {},
   "source": [
    "# Compilador e Interprete\n",
    "Un compilador es el programa que traduce código fuente a lenguaje de máquina. Un interprete hace una interpretación instantanea de un lenguaje de programación y produce una respuesta inmediata. El código de máquina generado por un compilador puede ser guardado y conservado para despues, mientras que un interprete solo puede producir comportamiento instantaneo.\n",
    "\n",
    "Julia, a pesar de parecer un lenguaje interpretado, por su interactividad, es un lenguaje compilado, su compilador es nombrado JIT (Just in Time) ya que provee código de máquina instantaneamente. Si deseas crear executables puedes revisar el siguiente link: http://juliacomputing.com/blog/2016/02/09/static-julia.html"
   ]
  },
  {
   "cell_type": "markdown",
   "metadata": {},
   "source": [
    "# Alto desempeño\n",
    "(Gracias a Ismael Villegas Castelló por éste ejemplo)\n",
    "El alto desempeño en Julia se debe a su especialización en cada tarea. Para verlo más a fondo utilizaremos la siguiente función:"
   ]
  },
  {
   "cell_type": "code",
   "execution_count": null,
   "metadata": {
    "collapsed": false
   },
   "outputs": [],
   "source": [
    "g() = 10_000_000 \n",
    "function test()                                             \n",
    "    i = 0                                                   \n",
    "        while i < 10_000_000                                    \n",
    "            i += 1                                              \n",
    "        end                                                     \n",
    "    return i                                                \n",
    "end  "
   ]
  },
  {
   "cell_type": "markdown",
   "metadata": {},
   "source": [
    "Es posible ver la especialicación en las tareas con la ayuda de los siguientes macros:"
   ]
  },
  {
   "cell_type": "markdown",
   "metadata": {},
   "source": [
    "## `@code_lowered` \n",
    "Código bajado, es decir parseado y aplicado el primer pase del compilador."
   ]
  },
  {
   "cell_type": "code",
   "execution_count": null,
   "metadata": {
    "collapsed": false
   },
   "outputs": [],
   "source": [
    "@code_lowered test()"
   ]
  },
  {
   "cell_type": "markdown",
   "metadata": {},
   "source": [
    "## `@code_typed` \n",
    "Código bajado y con anotaciones de tipos, por medio de la inferencia automática de tipos, en otro pase del compilador."
   ]
  },
  {
   "cell_type": "code",
   "execution_count": null,
   "metadata": {
    "collapsed": false
   },
   "outputs": [],
   "source": [
    "@code_typed test()"
   ]
  },
  {
   "cell_type": "markdown",
   "metadata": {},
   "source": [
    "## `@code_llvm` \n",
    "Código convertido a LLVM IR (Representación Intermedia de la Máquina Virtual de Bajo Nivel. Esto es homologo a un bytecode, sin embargo es de bajo nivel, o dicho de otra manera es una especie de ensamblador de alto nivel. Desde este nivel, podemos ver que el bucle ya ha sido eliminado completamente."
   ]
  },
  {
   "cell_type": "code",
   "execution_count": null,
   "metadata": {
    "collapsed": false
   },
   "outputs": [],
   "source": [
    "@code_llvm test()"
   ]
  },
  {
   "cell_type": "markdown",
   "metadata": {},
   "source": [
    "# `@code_native`\n",
    "Finalmente el código generado en ensamblador, el cual posteriormente es compilado a código binario nativo, especifico al procesador donde se ejecutará. Éste es el ultimo paso que podemos ver."
   ]
  },
  {
   "cell_type": "code",
   "execution_count": null,
   "metadata": {
    "collapsed": false
   },
   "outputs": [],
   "source": [
    "@code_native test()"
   ]
  },
  {
   "cell_type": "code",
   "execution_count": null,
   "metadata": {
    "collapsed": false
   },
   "outputs": [],
   "source": [
    "@code_native g()"
   ]
  },
  {
   "cell_type": "markdown",
   "metadata": {},
   "source": [
    "# Medición de Rendimiento\n",
    "Además del funcional y rápido macro `@time`, existe un paquete que nos permite medir con precisión los tiempos de trabajo de Julia: [`BenchmarkTools`](https://github.com/JuliaCI/BenchmarkTools.jl/blob/master/doc/manual.md):"
   ]
  },
  {
   "cell_type": "code",
   "execution_count": null,
   "metadata": {
    "collapsed": false
   },
   "outputs": [],
   "source": [
    "using BenchmarkTools\n",
    "@benchmark test()"
   ]
  },
  {
   "cell_type": "markdown",
   "metadata": {},
   "source": [
    "# Mejorar rendimiento\n",
    "Julia es sencillo de usar, pero para mejorar rendimiento es útil seguir algunas recomendaciones:"
   ]
  },
  {
   "cell_type": "markdown",
   "metadata": {},
   "source": [
    "- Al cargar un script, estás cargando el compilador de Julia, por lo que puede tardar en comenzar."
   ]
  },
  {
   "cell_type": "markdown",
   "metadata": {},
   "source": [
    "- Si quieres mejorar rendimiento de una función, encapsulala en un módulo y deja que Julia la precompile."
   ]
  },
  {
   "cell_type": "markdown",
   "metadata": {},
   "source": [
    "- Jupyter y la terminal son para probar ideas. Si vas a trabajar, trabaja en scripts."
   ]
  },
  {
   "cell_type": "markdown",
   "metadata": {},
   "source": [
    "- Usa funciones: No dejes procesos en el scope global."
   ]
  },
  {
   "cell_type": "markdown",
   "metadata": {},
   "source": [
    "- Revisa la especialización de tus tipos."
   ]
  },
  {
   "cell_type": "markdown",
   "metadata": {},
   "source": [
    "- Deja que Julia \"caliente\". El compilador tiene que compilar tu código la primer vez que es ejecutado. Despues usará el código nativo."
   ]
  },
  {
   "cell_type": "markdown",
   "metadata": {},
   "source": [
    "- Especifica tipos. Evita los arreglos de tipo `Any` y los flotantes cuando solo necesitas enteros."
   ]
  },
  {
   "cell_type": "markdown",
   "metadata": {},
   "source": [
    "- Revisa tus tipos. Utiliza el macro `@code_warntype` para evitar usar variables de tipo inespecifico."
   ]
  },
  {
   "cell_type": "code",
   "execution_count": null,
   "metadata": {
    "collapsed": false
   },
   "outputs": [],
   "source": [
    "pos(x) = x < 0 ? 0 : x\n",
    "\n",
    "function f(x)\n",
    "    y = pos(x)\n",
    "    sin(y*x+1)\n",
    "end\n",
    "\n",
    "@code_warntype f(3.2)"
   ]
  },
  {
   "cell_type": "code",
   "execution_count": null,
   "metadata": {
    "collapsed": true
   },
   "outputs": [],
   "source": [
    "funcA() = sum([i^2 for i in 1:10000 if i%2==0]);\n",
    "funcB() = sum(i^2 for i in 1:10000 if i%2==0);"
   ]
  },
  {
   "cell_type": "code",
   "execution_count": null,
   "metadata": {
    "collapsed": false
   },
   "outputs": [],
   "source": [
    "println(@time sum([i^2 for i in 1:10000 if i%2==0]);)\n",
    "println(@time sum(i^2 for i in 1:10000 if i%2==0);)\n",
    "println(@time funcA();)\n",
    "println(@time funcB();)"
   ]
  },
  {
   "cell_type": "code",
   "execution_count": null,
   "metadata": {
    "collapsed": false
   },
   "outputs": [],
   "source": [
    "@time begin\n",
    "    s=0\n",
    "    for i in 1:10000\n",
    "        if i%2==0\n",
    "            s+=i^2\n",
    "        end\n",
    "    end\n",
    "end"
   ]
  }
 ],
 "metadata": {
  "kernelspec": {
   "display_name": "Julia 0.5.0",
   "language": "julia",
   "name": "julia-0.5"
  },
  "language_info": {
   "file_extension": ".jl",
   "mimetype": "application/julia",
   "name": "julia",
   "version": "0.5.0"
  },
  "widgets": {
   "state": {},
   "version": "1.1.2"
  }
 },
 "nbformat": 4,
 "nbformat_minor": 2
}
