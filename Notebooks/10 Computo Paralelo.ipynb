{
 "cells": [
  {
   "cell_type": "markdown",
   "metadata": {},
   "source": [
    "# Paralelismo\n",
    "Se refiere a utilizar varios procesos al mismo tiempo. Con julia se puede hacer en una sola computadora o distribuido. Para aprovechar los nucleos de procesamiento de tu computadora, es conveniente iniciar Julia un número equivalente de `workers` o trabajadores. En mi caso ese número es 4:\n",
    "```shell\n",
    "julia -p 4\n",
    "```\n",
    "Al igual que una co-rutina, para hacer funcionar a los trabajadores, hay que crear una llamada remota `remotecall()`. Ésta recive la función a processar, y sus argumentos:"
   ]
  },
  {
   "cell_type": "code",
   "execution_count": null,
   "metadata": {
    "collapsed": false
   },
   "outputs": [],
   "source": [
    "r = remotecall(rand, 2, 2, 2)"
   ]
  },
  {
   "cell_type": "markdown",
   "metadata": {},
   "source": [
    "Para tomar un valor de ésta función, se debe mandar llamar a función `fetch()` con el trabajador de quien se quiere recolectar la información:"
   ]
  },
  {
   "cell_type": "code",
   "execution_count": null,
   "metadata": {
    "collapsed": true
   },
   "outputs": [],
   "source": [
    "fetch(r)"
   ]
  },
  {
   "cell_type": "markdown",
   "metadata": {},
   "source": [
    "**NOTA** los trabajadores no tienen acceso al scope global, por lo que es necesario cargar las lbrerías para cáda worker."
   ]
  },
  {
   "cell_type": "code",
   "execution_count": null,
   "metadata": {
    "collapsed": true
   },
   "outputs": [],
   "source": [
    "function rand2(dims...)\n",
    "    return 2*rand(dims...)\n",
    "end\n",
    "rand2(2,2)\n",
    "fetch(@spawn rand2(2,2))"
   ]
  },
  {
   "cell_type": "markdown",
   "metadata": {},
   "source": [
    "```shell\n",
    "julia -p <n> -L módulo1.jl -L módulo2.jl MiPrograma.jl\n",
    "```"
   ]
  },
  {
   "cell_type": "markdown",
   "metadata": {},
   "source": [
    "# Simulación de montecarlo\n",
    "Modelado a partir de eventos aleatorios."
   ]
  },
  {
   "cell_type": "code",
   "execution_count": null,
   "metadata": {
    "collapsed": true
   },
   "outputs": [],
   "source": [
    "# en Contar.jl\n",
    "function contar(n)\n",
    "    c::Int = 0\n",
    "    for i=1:n\n",
    "        c += rand(Bool)\n",
    "    end\n",
    "    c\n",
    "end"
   ]
  },
  {
   "cell_type": "code",
   "execution_count": null,
   "metadata": {
    "collapsed": true
   },
   "outputs": [],
   "source": [
    "# En programa principal\n",
    "@everywhere include(\"Contar.jl\")\n",
    "\n",
    "a = @spawn contar(100000000)\n",
    "b = @spawn contar(100000000)\n",
    "fetch(a)+fetch(b) # REDUCCIÓN!"
   ]
  },
  {
   "cell_type": "markdown",
   "metadata": {},
   "source": [
    "Noten que estámos usando únicamente dos workers, cuando la mayoría de nosotros tiene por lo menos cuatro nucleos. El uso generalizado de workers se puede escribir con loops paralelos:"
   ]
  },
  {
   "cell_type": "code",
   "execution_count": null,
   "metadata": {
    "collapsed": true
   },
   "outputs": [],
   "source": [
    "n = @parallel (+) for i=1:200000000 # La reducción se lleva a cabo por la función +\n",
    "  Int(rand(Bool))\n",
    "end"
   ]
  },
  {
   "cell_type": "markdown",
   "metadata": {},
   "source": [
    "# Mapeo en paralelo\n",
    "Hablamos ya de la función `map()` y cómo ésta nos ayuda a mapear una función a un arreglo. Para utilizarla en paralelo, ya que la implementación a bajo nivel es ligeramente distinta, el nombre es `pmap()` (Parallel Maping). Esta función se encarga de organizar a los workers y evita que tengas que realizar llamadas remotas."
   ]
  },
  {
   "cell_type": "code",
   "execution_count": null,
   "metadata": {
    "collapsed": true
   },
   "outputs": [],
   "source": [
    "M = Matrix{Float64}[rand(1000,1000) for i=1:10]\n",
    "pmap(svd, M)"
   ]
  },
  {
   "cell_type": "markdown",
   "metadata": {},
   "source": [
    "Eviten usar arreglos dentro de un ciclo for paralelizado, pues [normalmente](http://docs.julialang.org/en/release-0.5/manual/parallel-computing.html#shared-arrays) los arreglos no son compartidos entre trabajadores."
   ]
  },
  {
   "cell_type": "code",
   "execution_count": null,
   "metadata": {
    "collapsed": true
   },
   "outputs": [],
   "source": [
    "a = SharedArray(Float64,10)\n",
    "@parallel for i=1:10\n",
    "  a[i] = i # NOT\n",
    "end"
   ]
  },
  {
   "cell_type": "markdown",
   "metadata": {},
   "source": [
    "# Clusters\n",
    "Julia puede ser iniciado en paralelo con la opción `--machinefile` que lanzará un trabajador por cada linea en el archivo indicado. Las máquinas definidas en el archivo deben estár accesibles por medio de SSH sin contraseña, y tener julia instalado. El archivo de definición de máquinas debe tener los siguientes campos:\n",
    "```shell\n",
    "[count*][user@]host[:port] [bind_addr[:port]] \n",
    "```\n",
    "Dónde:\n",
    "- `user` tiene por default el mismo usuario que el acutal\n",
    "- `port` es el puerto default de SSH (22)\n",
    "- `count` es el número de workers a trabajar en el nódo (default 1)\n",
    "- La opción `bind_addr[:port]` especifica la ip y puerto a la que otros workers deben entrar para conectarse con el actual.\n",
    "\n",
    "A darle! :)\n"
   ]
  }
 ],
 "metadata": {
  "kernelspec": {
   "display_name": "Julia 0.5.0",
   "language": "julia",
   "name": "julia-0.5"
  },
  "language_info": {
   "file_extension": ".jl",
   "mimetype": "application/julia",
   "name": "julia",
   "version": "0.5.0"
  },
  "widgets": {
   "state": {},
   "version": "1.1.2"
  }
 },
 "nbformat": 4,
 "nbformat_minor": 2
}
