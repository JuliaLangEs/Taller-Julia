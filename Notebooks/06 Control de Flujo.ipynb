{
 "cells": [
  {
   "cell_type": "markdown",
   "metadata": {},
   "source": [
    "# Expresiones Compuestas\n",
    "Una forma de encapsular procesos es en bloques `begin`-`end`. Hemos visto ya que funciona para manejar proison arbirtaria."
   ]
  },
  {
   "cell_type": "code",
   "execution_count": null,
   "metadata": {
    "collapsed": false
   },
   "outputs": [],
   "source": [
    "z = begin\n",
    "    x = 1\n",
    "    y = 2\n",
    "    x + y\n",
    "end"
   ]
  },
  {
   "cell_type": "markdown",
   "metadata": {},
   "source": [
    "# Condicionales\n",
    "Son la forma en que permitimos a las computadoras tomar desciciones en base a variables."
   ]
  },
  {
   "cell_type": "code",
   "execution_count": null,
   "metadata": {
    "collapsed": false
   },
   "outputs": [],
   "source": [
    "if x < y\n",
    "    println(\"x es menos que y\")\n",
    "elseif x > y\n",
    "    println(\"x es más que y\")\n",
    "else\n",
    "    println(\"x es igual a y\")\n",
    "end"
   ]
  },
  {
   "cell_type": "code",
   "execution_count": null,
   "metadata": {
    "collapsed": false
   },
   "outputs": [],
   "source": [
    "function test(x,y)\n",
    "    if x < y\n",
    "        println(\"x es menos que y\")\n",
    "    elseif x > y\n",
    "        println(\"x es más que y\")\n",
    "    else\n",
    "        println(\"x es igual a y\")\n",
    "    end\n",
    "end"
   ]
  },
  {
   "cell_type": "code",
   "execution_count": null,
   "metadata": {
    "collapsed": false
   },
   "outputs": [],
   "source": [
    "test(1,2)"
   ]
  },
  {
   "cell_type": "code",
   "execution_count": null,
   "metadata": {
    "collapsed": false
   },
   "outputs": [],
   "source": [
    "test(2,1)"
   ]
  },
  {
   "cell_type": "code",
   "execution_count": null,
   "metadata": {
    "collapsed": false
   },
   "outputs": [],
   "source": [
    "test(1,1)"
   ]
  },
  {
   "cell_type": "markdown",
   "metadata": {},
   "source": [
    "# Operador Ternario\n",
    "Una forma rápida de escribir un simple `if-else` es con el operador ternario:"
   ]
  },
  {
   "cell_type": "code",
   "execution_count": null,
   "metadata": {
    "collapsed": false
   },
   "outputs": [],
   "source": [
    "typeof(1.1)==Float64? print(\"flotante!\"): print(\"No es flotante!\")"
   ]
  },
  {
   "cell_type": "markdown",
   "metadata": {},
   "source": [
    "# Expressiones de Corto Circuito\n",
    "Una más corta de evaluar si una linea de código debe ejecutarse es atraves de evaluaciones en corto circiuto. Estas hacen uso de los operadores lógicos `&&` (and) y `||` (or):\n",
    "- En la expresión `a && b`, `b` solo se ejecuta si `a` es cierto.\n",
    "- En la expresión `a || b`, `b` solo se ejecuta si `a` es falso."
   ]
  },
  {
   "cell_type": "code",
   "execution_count": null,
   "metadata": {
    "collapsed": false
   },
   "outputs": [],
   "source": [
    "true && print(\"Hola Mundo\")"
   ]
  },
  {
   "cell_type": "code",
   "execution_count": null,
   "metadata": {
    "collapsed": false
   },
   "outputs": [],
   "source": [
    "true || print(\"Hola Mundo\")"
   ]
  },
  {
   "cell_type": "markdown",
   "metadata": {},
   "source": [
    "# Expreciones de Repetición\n",
    "El gran poder de las computadoras es poder repetir muchas operaciones rápidamente. Julia nos permite controlar éstas repeticiones de dos formas:"
   ]
  },
  {
   "cell_type": "markdown",
   "metadata": {},
   "source": [
    "## While\n",
    "Un ciclo que se cumlpe _mientras_ una evaluacion sea cierta:"
   ]
  },
  {
   "cell_type": "code",
   "execution_count": null,
   "metadata": {
    "collapsed": false
   },
   "outputs": [],
   "source": [
    "i = 1\n",
    "while i <= 5\n",
    "    println(i)\n",
    "    i += 1\n",
    "end"
   ]
  },
  {
   "cell_type": "markdown",
   "metadata": {},
   "source": [
    "**Importante**: Un ciclo while puede facilmente convertirse en un ciclo infinito. De suceder ésto, julia dejará de reaccionar y tendrás que terminar el processo."
   ]
  },
  {
   "cell_type": "code",
   "execution_count": null,
   "metadata": {
    "collapsed": false
   },
   "outputs": [],
   "source": [
    "while true\n",
    "    i+=1\n",
    "end"
   ]
  },
  {
   "cell_type": "markdown",
   "metadata": {},
   "source": [
    "Cási todos los ciclos while tienen los mismos tres elementos: un a inicialización (antes del ciclo), una evaluación lógica, y una modificación de la variable evaluada. Esto significa que sirven para contar."
   ]
  },
  {
   "cell_type": "markdown",
   "metadata": {},
   "source": [
    "## For\n",
    "El ciclo `for` hace fácil de escribir la forma más común de un ciclo `while` en el que se cuenta hacia arriba o abajo:"
   ]
  },
  {
   "cell_type": "code",
   "execution_count": null,
   "metadata": {
    "collapsed": false
   },
   "outputs": [],
   "source": [
    "for i = 1:5\n",
    "    println(i)\n",
    "end"
   ]
  },
  {
   "cell_type": "markdown",
   "metadata": {},
   "source": [
    "Éste ciclo tambien nos permite iterar por los elementos de un arreglo:"
   ]
  },
  {
   "cell_type": "code",
   "execution_count": null,
   "metadata": {
    "collapsed": true
   },
   "outputs": [],
   "source": [
    "for i in [1,4,0]\n",
    "    println(i)\n",
    "end"
   ]
  },
  {
   "cell_type": "markdown",
   "metadata": {},
   "source": [
    "En ambos, el ciclo `for` y el `while`, es posible detener las repeticiones, o saltarse una. Esto se logra con las palabras reservadas `break` y `continue` respectivamente."
   ]
  },
  {
   "cell_type": "code",
   "execution_count": null,
   "metadata": {
    "collapsed": false
   },
   "outputs": [],
   "source": [
    "for i in 1:10\n",
    "    i%5==0? break: println(i)\n",
    "end"
   ]
  },
  {
   "cell_type": "code",
   "execution_count": null,
   "metadata": {
    "collapsed": false
   },
   "outputs": [],
   "source": [
    "for i in 1:10\n",
    "    i%2==0? continue: println(i)\n",
    "end"
   ]
  },
  {
   "cell_type": "markdown",
   "metadata": {},
   "source": [
    "### Uso de multiples ciclos\n",
    "Es posible escribir varios ciclos `for` en una sola expresión (como cuando se crea una matríz). Esto se hace de la siguiente manera:"
   ]
  },
  {
   "cell_type": "code",
   "execution_count": null,
   "metadata": {
    "collapsed": false
   },
   "outputs": [],
   "source": [
    "for i = 1:2, j = 3:4\n",
    "    println((i, j))\n",
    "end"
   ]
  },
  {
   "cell_type": "markdown",
   "metadata": {},
   "source": [
    "# Manejo de Excepciones\n",
    "Los errores que lanza Julia cuando hacemos algo inadecuado son en si un elemento de Julia: las exepciones. Puedes encontrar una lista con las exepciones de Julia en [éste sitio](http://docs.julialang.org/en/release-0.5/manual/control-flow/#built-in-exceptions). Todas ellas están disponibles para tu uso a travez de la función `throw()` que \"lanza\" una exepicón:"
   ]
  },
  {
   "cell_type": "code",
   "execution_count": null,
   "metadata": {
    "collapsed": false
   },
   "outputs": [],
   "source": [
    "throw(ArgumentError)"
   ]
  },
  {
   "cell_type": "markdown",
   "metadata": {},
   "source": [
    "También tienes disponibles las funciones `info()`, `warning()`, y `error()` que te permiten mandar mensajes informativos, alertas, y mensajes de error a tu usuario. "
   ]
  },
  {
   "cell_type": "markdown",
   "metadata": {},
   "source": [
    "De la misma forma, puedes analizar en un bloque de código si alguna exepción ha sucedido. Esto sirve para poder manejar los posibles errores en tu código:"
   ]
  },
  {
   "cell_type": "code",
   "execution_count": null,
   "metadata": {
    "collapsed": false
   },
   "outputs": [],
   "source": [
    "try\n",
    "    sqrt(-1)\n",
    "catch\n",
    "    error(\"No hay raíz de -1\")\n",
    "end"
   ]
  },
  {
   "cell_type": "code",
   "execution_count": null,
   "metadata": {
    "collapsed": false
   },
   "outputs": [],
   "source": [
    "# Una mejor forma de manejar un error:\n",
    "try\n",
    "    sqrt(-1)\n",
    "catch\n",
    "    sqrt(complex(x, 0))\n",
    "end"
   ]
  },
  {
   "cell_type": "markdown",
   "metadata": {},
   "source": [
    "# Co-rutinas\n",
    "Las co-rutinas son elementos de código que no se ejecutan en el mismo proceso que el programa principal. Esto es muy util para trabajar eventos asincrónicos."
   ]
  },
  {
   "cell_type": "code",
   "execution_count": null,
   "metadata": {
    "collapsed": true
   },
   "outputs": [],
   "source": [
    "function producer()\n",
    "    produce(\"Empieza a producir\")\n",
    "    for n=1:4\n",
    "        produce(2n)\n",
    "    end\n",
    "    produce(\"Fin\")\n",
    "end;"
   ]
  },
  {
   "cell_type": "code",
   "execution_count": null,
   "metadata": {
    "collapsed": true
   },
   "outputs": [],
   "source": [
    "p = Task(producer);"
   ]
  },
  {
   "cell_type": "code",
   "execution_count": null,
   "metadata": {
    "collapsed": false
   },
   "outputs": [],
   "source": [
    "consume(p)"
   ]
  },
  {
   "cell_type": "code",
   "execution_count": null,
   "metadata": {
    "collapsed": false
   },
   "outputs": [],
   "source": [
    "for x in Task(producer)\n",
    "         println(x)\n",
    "       end"
   ]
  }
 ],
 "metadata": {
  "kernelspec": {
   "display_name": "Julia 0.5.0",
   "language": "julia",
   "name": "julia-0.5"
  },
  "language_info": {
   "file_extension": ".jl",
   "mimetype": "application/julia",
   "name": "julia",
   "version": "0.5.0"
  },
  "widgets": {
   "state": {},
   "version": "1.1.2"
  }
 },
 "nbformat": 4,
 "nbformat_minor": 2
}
